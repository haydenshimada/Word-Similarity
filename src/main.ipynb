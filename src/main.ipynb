{
 "cells": [
  {
   "cell_type": "code",
   "execution_count": 1,
   "metadata": {},
   "outputs": [],
   "source": [
    "import numpy as np"
   ]
  },
  {
   "cell_type": "code",
   "execution_count": 8,
   "metadata": {},
   "outputs": [],
   "source": [
    "word2vec = {}\n",
    "with open(\"../word2vec/W2V_150.txt\", mode='r', encoding='utf-8') as file:\n",
    "    next(file)\n",
    "    next(file)\n",
    "    lines = file.readlines()\n",
    "    for line in lines:\n",
    "        split = line.split()\n",
    "\n",
    "        word = split[0]\n",
    "        vec = split[1:]\n",
    "\n",
    "        word2vec[word] = np.array(vec).astype(float)\n"
   ]
  },
  {
   "cell_type": "code",
   "execution_count": 11,
   "metadata": {},
   "outputs": [
    {
     "name": "stdout",
     "output_type": "stream",
     "text": [
      "150\n",
      "float64\n"
     ]
    }
   ],
   "source": [
    "interesting = word2vec[\"thú_vị\"]\n",
    "print(len(interesting))\n",
    "print(interesting.dtype)"
   ]
  },
  {
   "cell_type": "code",
   "execution_count": 12,
   "metadata": {},
   "outputs": [],
   "source": [
    "fun = word2vec[\"vui\"]"
   ]
  },
  {
   "cell_type": "code",
   "execution_count": 15,
   "metadata": {},
   "outputs": [
    {
     "data": {
      "text/plain": [
       "82.74809785022461"
      ]
     },
     "execution_count": 15,
     "metadata": {},
     "output_type": "execute_result"
    }
   ],
   "source": [
    "np.dot(fun.T, interesting)"
   ]
  },
  {
   "attachments": {},
   "cell_type": "markdown",
   "metadata": {},
   "source": [
    "# Problem 1:"
   ]
  },
  {
   "cell_type": "code",
   "execution_count": 19,
   "metadata": {},
   "outputs": [],
   "source": [
    "def cosine_similarity(vec1: np.array, vec2: np.array) -> float:\n",
    "    numerator = np.sum(np.multiply(vec1, vec2))\n",
    "    denominator = np.sqrt(np.dot(vec1.T, vec1)) * np.sqrt(np.dot(vec2.T, vec2))\n",
    "\n",
    "    return numerator / denominator"
   ]
  },
  {
   "cell_type": "code",
   "execution_count": 20,
   "metadata": {},
   "outputs": [
    {
     "data": {
      "text/plain": [
       "0.48814743997004356"
      ]
     },
     "execution_count": 20,
     "metadata": {},
     "output_type": "execute_result"
    }
   ],
   "source": [
    "cosine_similarity(fun, interesting)"
   ]
  },
  {
   "cell_type": "code",
   "execution_count": 32,
   "metadata": {},
   "outputs": [],
   "source": [
    "def KNN(word: str, vocab: dict, k: int = 5) -> np.array:\n",
    "    distance_list = []\n",
    "    for w in vocab:\n",
    "        if w != word:\n",
    "            distance_list.append((w, cosine_similarity(vocab[word], vocab[w])))\n",
    "    distance_list = sorted(distance_list, key=lambda x: x[1], reverse=True)\n",
    "\n",
    "    return np.array(distance_list[:k])"
   ]
  },
  {
   "cell_type": "code",
   "execution_count": 33,
   "metadata": {},
   "outputs": [
    {
     "data": {
      "text/plain": [
       "array([['tát', '0.5022767817350094'],\n",
       "       ['đấm', '0.4383916557515601'],\n",
       "       ['bạt_tai', '0.4378275347842416'],\n",
       "       ['đánh_liên_tiếp', '0.4205850772757408'],\n",
       "       ['đánh_túi_bụi', '0.41529420942501954']], dtype='<U32')"
      ]
     },
     "execution_count": 33,
     "metadata": {},
     "output_type": "execute_result"
    }
   ],
   "source": [
    "KNN(\"vả\", word2vec)"
   ]
  },
  {
   "cell_type": "code",
   "execution_count": null,
   "metadata": {},
   "outputs": [],
   "source": []
  }
 ],
 "metadata": {
  "kernelspec": {
   "display_name": "myenv",
   "language": "python",
   "name": "python3"
  },
  "language_info": {
   "codemirror_mode": {
    "name": "ipython",
    "version": 3
   },
   "file_extension": ".py",
   "mimetype": "text/x-python",
   "name": "python",
   "nbconvert_exporter": "python",
   "pygments_lexer": "ipython3",
   "version": "3.9.16"
  },
  "orig_nbformat": 4
 },
 "nbformat": 4,
 "nbformat_minor": 2
}
